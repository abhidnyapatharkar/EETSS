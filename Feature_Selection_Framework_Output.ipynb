{
 "cells": [
  {
   "cell_type": "markdown",
   "id": "0f6a5678",
   "metadata": {},
   "source": [
    "### Import Python packages"
   ]
  },
  {
   "cell_type": "code",
   "execution_count": null,
   "id": "71da02c3",
   "metadata": {},
   "outputs": [],
   "source": [
    "import numpy as np\n",
    "import pandas as pd\n",
    "import warnings\n",
    "from time import time\n",
    "warnings.filterwarnings('ignore')\n",
    "from scipy import signal\n",
    "from scipy.signal import butter, lfilter\n",
    "import matplotlib.pyplot as plt\n",
    "import math\n",
    "import pickle\n",
    "import statistics\n",
    "from sklearn.metrics.pairwise import cosine_similarity\n",
    "from math import log\n",
    "from sklearn import preprocessing\n",
    "from sklearn import metrics\n",
    "from sklearn.metrics import accuracy_score,recall_score\n",
    "from sklearn.model_selection import train_test_split\n",
    "from sklearn.ensemble import RandomForestClassifier\n",
    "from sklearn.preprocessing import OneHotEncoder\n",
    "from sklearn.metrics import classification_report\n",
    "# from xgboost import XGBClassifier \n",
    "from sklearn.neighbors import KNeighborsClassifier\n",
    "from sklearn.svm import SVC\n",
    "from sklearn.linear_model import LogisticRegression\n",
    "from sklearn.model_selection import GridSearchCV\n",
    "from sklearn.preprocessing import MinMaxScaler\n",
    "from sklearn.model_selection import StratifiedKFold\n",
    "from sklearn.preprocessing import LabelEncoder\n",
    "from sklearn.naive_bayes import GaussianNB\n",
    "from sklearn.linear_model import LogisticRegression\n",
    "from sklearn.feature_selection import SelectKBest, f_classif\n",
    "from collections import Counter"
   ]
  },
  {
   "cell_type": "markdown",
   "id": "ab9a1792",
   "metadata": {},
   "source": [
    "### Generate EE vector names"
   ]
  },
  {
   "cell_type": "code",
   "execution_count": null,
   "id": "72ef1bea",
   "metadata": {},
   "outputs": [],
   "source": [
    "#Input comes from calculating the length of the EE vector generated for this case\n",
    "a = 100\n",
    "b = 50\n",
    "c = 34\n",
    "d = 25\n",
    "e = 20\n",
    "f = 17\n",
    "g = 15\n",
    "h = 13\n",
    "i = 12\n",
    "j = 10\n",
    "\n",
    "# Create a list comprehension to generate the range of numbers with the prefix\n",
    "numbers_1 = [f\"0.5_{i}\" for i in range(1, a)]\n",
    "numbers_2 = [f\"1.0_{i}\" for i in range(1, b)]\n",
    "numbers_3 = [f\"1.5_{i}\" for i in range(1, c)]\n",
    "numbers_4 = [f\"2.0_{i}\" for i in range(1, d)]\n",
    "numbers_5 = [f\"2.5_{i}\" for i in range(1, e)]\n",
    "numbers_6 = [f\"3.0_{i}\" for i in range(1, f)]\n",
    "numbers_7 = [f\"3.5_{i}\" for i in range(1, g)]\n",
    "numbers_8 = [f\"4.0_{i}\" for i in range(1, h)]\n",
    "numbers_9 = [f\"4.5_{i}\" for i in range(1, i)]\n",
    "numbers_10 = [f\"5.0_{i}\" for i in range(1, j)]\n",
    "\n",
    "merged_list1 = numbers_1 + numbers_2 + numbers_3 + numbers_4 + numbers_5 + numbers_6 + numbers_7 + numbers_8 + numbers_9 + numbers_10\n",
    "# display(merged_list1)"
   ]
  },
  {
   "cell_type": "markdown",
   "id": "8ccf3f1e",
   "metadata": {},
   "source": [
    "### Import files"
   ]
  },
  {
   "cell_type": "code",
   "execution_count": null,
   "id": "9161b99e",
   "metadata": {},
   "outputs": [],
   "source": [
    "path_train = f'/FM/EE_values_train_slope.csv'\n",
    "EE_values_train_slope =  pd.read_csv(path_train)\n",
    "path_test = f'/FM/EE_values_test_slope.csv'\n",
    "EE_values_test_slope =  pd.read_csv(path_test)"
   ]
  },
  {
   "cell_type": "markdown",
   "id": "5676f6f2",
   "metadata": {},
   "source": [
    "### Form dataframes"
   ]
  },
  {
   "cell_type": "code",
   "execution_count": null,
   "id": "08eeeefb",
   "metadata": {},
   "outputs": [],
   "source": [
    "df_mod = (pd.concat([EE_values_train_slope.iloc[:,1:],EE_values_test_slope.iloc[:,1:]],axis = 0).reset_index()).drop(columns='index')"
   ]
  },
  {
   "cell_type": "code",
   "execution_count": null,
   "id": "abc2223d",
   "metadata": {},
   "outputs": [],
   "source": [
    "X_mod = df_mod.iloc[:,:-1].values\n",
    "y_mod = df_mod.iloc[:, -1].values"
   ]
  },
  {
   "cell_type": "code",
   "execution_count": null,
   "id": "3a89c1fb",
   "metadata": {},
   "outputs": [],
   "source": [
    "scaler = MinMaxScaler()\n",
    "X = scaler.fit_transform(X_mod)\n",
    "# display(X)"
   ]
  },
  {
   "cell_type": "code",
   "execution_count": null,
   "id": "c949f226",
   "metadata": {},
   "outputs": [],
   "source": [
    "# Create a dictionary that maps old column names to new ones\n",
    "col_dict = {old_col: new_col for old_col, new_col in zip((pd.DataFrame(X)).columns, merged_list1)}\n",
    "\n",
    "# Rename the columns using the rename() method\n",
    "df = (pd.DataFrame(X)).rename(columns=col_dict)\n",
    "\n",
    "# Print the updated dataframe\n",
    "# display(df)"
   ]
  },
  {
   "cell_type": "code",
   "execution_count": null,
   "id": "75d6550e",
   "metadata": {},
   "outputs": [],
   "source": [
    "X = df\n",
    "display(X.head())"
   ]
  },
  {
   "cell_type": "markdown",
   "id": "5067bcd8",
   "metadata": {},
   "source": [
    "### Label Encode the data"
   ]
  },
  {
   "cell_type": "code",
   "execution_count": null,
   "id": "c79ac71f",
   "metadata": {},
   "outputs": [],
   "source": [
    "enc=LabelEncoder()\n",
    "if type(y_mod[0])==str:\n",
    "    y = y_mod.reshape(-1, 1)\n",
    "    y = pd.DataFrame(enc.fit_transform(y))\n",
    "else:\n",
    "    y = y_mod"
   ]
  },
  {
   "cell_type": "code",
   "execution_count": null,
   "id": "96c821e2",
   "metadata": {},
   "outputs": [],
   "source": [
    "display(y.head())"
   ]
  },
  {
   "cell_type": "markdown",
   "id": "7aaf919a",
   "metadata": {},
   "source": [
    "### Feature Selection"
   ]
  },
  {
   "cell_type": "code",
   "execution_count": null,
   "id": "41fe27dc",
   "metadata": {},
   "outputs": [],
   "source": [
    "from sklearn.feature_selection import RFECV\n",
    "from sklearn.model_selection import StratifiedKFold\n",
    "from sklearn.linear_model import LogisticRegression\n",
    "\n",
    "# min_features_to_select = 1  # Minimum number of features to consider\n",
    "clf = RandomForestClassifier(random_state=42)\n",
    "cv = StratifiedKFold(5)\n",
    "rfecv = RFECV(estimator=clf, step=10, cv=cv, scoring=\"recall\", min_features_to_select= 20, n_jobs=-1)\n",
    "rfecv.fit(X, y)\n",
    "\n",
    "display(f\"Optimal number of features: {rfecv.n_features_}\")"
   ]
  },
  {
   "cell_type": "code",
   "execution_count": null,
   "id": "ce021428",
   "metadata": {},
   "outputs": [],
   "source": [
    "# get the boolean mask of selected features\n",
    "feature_mask = rfecv.support_\n",
    "\n",
    "# select the relevant features from the original dataset\n",
    "selected_features = X.columns[feature_mask]\n",
    "\n",
    "# print the selected features\n",
    "display(selected_features)"
   ]
  },
  {
   "cell_type": "code",
   "execution_count": null,
   "id": "e22fdcd3",
   "metadata": {},
   "outputs": [],
   "source": [
    "X_selected = rfecv.transform(X)\n",
    "y_selected = y"
   ]
  },
  {
   "cell_type": "code",
   "execution_count": null,
   "id": "57285d4d",
   "metadata": {},
   "outputs": [],
   "source": [
    "X = X_selected\n",
    "display((pd.DataFrame(X)).head())\n",
    "y = y\n",
    "display((pd.DataFrame(y)).head())"
   ]
  },
  {
   "cell_type": "code",
   "execution_count": null,
   "id": "4a465b14",
   "metadata": {},
   "outputs": [],
   "source": [
    "pickle_file_path = 'x_values.pkl'\n",
    "(pd.DataFrame(X)).to_pickle(pickle_file_path)\n",
    "display(f\"DataFrame saved as Pickle at {pickle_file_path}\")"
   ]
  },
  {
   "cell_type": "code",
   "execution_count": null,
   "id": "e7f1854d",
   "metadata": {},
   "outputs": [],
   "source": [
    "pickle_file_path_1 = 'y_values.pkl'\n",
    "(pd.DataFrame(y)).to_pickle(pickle_file_path_1)\n",
    "display(f\"DataFrame saved as Pickle at {pickle_file_path_1}\")"
   ]
  },
  {
   "cell_type": "code",
   "execution_count": null,
   "id": "0dab7b24",
   "metadata": {},
   "outputs": [],
   "source": []
  }
 ],
 "metadata": {
  "kernelspec": {
   "display_name": "Python 3 (ipykernel)",
   "language": "python",
   "name": "python3"
  },
  "language_info": {
   "codemirror_mode": {
    "name": "ipython",
    "version": 3
   },
   "file_extension": ".py",
   "mimetype": "text/x-python",
   "name": "python",
   "nbconvert_exporter": "python",
   "pygments_lexer": "ipython3",
   "version": "3.9.13"
  }
 },
 "nbformat": 4,
 "nbformat_minor": 5
}
